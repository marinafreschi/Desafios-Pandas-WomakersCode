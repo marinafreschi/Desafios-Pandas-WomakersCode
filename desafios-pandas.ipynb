{
 "cells": [
  {
   "cell_type": "code",
   "execution_count": 1,
   "metadata": {},
   "outputs": [],
   "source": [
    "import pandas as pd\n",
    "import matplotlib.pylab as plt\n",
    "from pydataset import data"
   ]
  },
  {
   "cell_type": "markdown",
   "metadata": {},
   "source": [
    "### DESAFIO 1: PYDATASET"
   ]
  },
  {
   "cell_type": "code",
   "execution_count": 3,
   "metadata": {},
   "outputs": [
    {
     "data": {
      "text/html": [
       "<div>\n",
       "<style scoped>\n",
       "    .dataframe tbody tr th:only-of-type {\n",
       "        vertical-align: middle;\n",
       "    }\n",
       "\n",
       "    .dataframe tbody tr th {\n",
       "        vertical-align: top;\n",
       "    }\n",
       "\n",
       "    .dataframe thead th {\n",
       "        text-align: right;\n",
       "    }\n",
       "</style>\n",
       "<table border=\"1\" class=\"dataframe\">\n",
       "  <thead>\n",
       "    <tr style=\"text-align: right;\">\n",
       "      <th></th>\n",
       "      <th>pdias</th>\n",
       "      <th>longindex</th>\n",
       "      <th>durflow</th>\n",
       "      <th>height</th>\n",
       "      <th>begflow</th>\n",
       "      <th>mycor</th>\n",
       "      <th>vegaer</th>\n",
       "      <th>vegsout</th>\n",
       "      <th>autopoll</th>\n",
       "      <th>insects</th>\n",
       "      <th>...</th>\n",
       "      <th>seashiv</th>\n",
       "      <th>seasver</th>\n",
       "      <th>everalw</th>\n",
       "      <th>everparti</th>\n",
       "      <th>elaio</th>\n",
       "      <th>endozoo</th>\n",
       "      <th>epizoo</th>\n",
       "      <th>aquat</th>\n",
       "      <th>windgl</th>\n",
       "      <th>unsp</th>\n",
       "    </tr>\n",
       "  </thead>\n",
       "  <tbody>\n",
       "    <tr>\n",
       "      <th>Aceca</th>\n",
       "      <td>96.84</td>\n",
       "      <td>0.000000</td>\n",
       "      <td>2</td>\n",
       "      <td>7</td>\n",
       "      <td>5</td>\n",
       "      <td>2.0</td>\n",
       "      <td>0.0</td>\n",
       "      <td>0.0</td>\n",
       "      <td>0</td>\n",
       "      <td>4</td>\n",
       "      <td>...</td>\n",
       "      <td>0.0</td>\n",
       "      <td>0.0</td>\n",
       "      <td>0.0</td>\n",
       "      <td>0.0</td>\n",
       "      <td>0.0</td>\n",
       "      <td>0.0</td>\n",
       "      <td>0.0</td>\n",
       "      <td>0.0</td>\n",
       "      <td>1.0</td>\n",
       "      <td>0.0</td>\n",
       "    </tr>\n",
       "    <tr>\n",
       "      <th>Aceps</th>\n",
       "      <td>110.72</td>\n",
       "      <td>0.000000</td>\n",
       "      <td>3</td>\n",
       "      <td>8</td>\n",
       "      <td>4</td>\n",
       "      <td>2.0</td>\n",
       "      <td>0.0</td>\n",
       "      <td>0.0</td>\n",
       "      <td>0</td>\n",
       "      <td>4</td>\n",
       "      <td>...</td>\n",
       "      <td>0.0</td>\n",
       "      <td>0.0</td>\n",
       "      <td>0.0</td>\n",
       "      <td>0.0</td>\n",
       "      <td>0.0</td>\n",
       "      <td>0.0</td>\n",
       "      <td>0.0</td>\n",
       "      <td>0.0</td>\n",
       "      <td>1.0</td>\n",
       "      <td>0.0</td>\n",
       "    </tr>\n",
       "    <tr>\n",
       "      <th>Agrca</th>\n",
       "      <td>0.06</td>\n",
       "      <td>0.666667</td>\n",
       "      <td>3</td>\n",
       "      <td>2</td>\n",
       "      <td>6</td>\n",
       "      <td>2.0</td>\n",
       "      <td>0.0</td>\n",
       "      <td>1.0</td>\n",
       "      <td>0</td>\n",
       "      <td>0</td>\n",
       "      <td>...</td>\n",
       "      <td>0.0</td>\n",
       "      <td>0.0</td>\n",
       "      <td>1.0</td>\n",
       "      <td>0.0</td>\n",
       "      <td>0.0</td>\n",
       "      <td>0.0</td>\n",
       "      <td>0.0</td>\n",
       "      <td>0.0</td>\n",
       "      <td>0.0</td>\n",
       "      <td>1.0</td>\n",
       "    </tr>\n",
       "    <tr>\n",
       "      <th>Agrst</th>\n",
       "      <td>0.08</td>\n",
       "      <td>0.488889</td>\n",
       "      <td>2</td>\n",
       "      <td>2</td>\n",
       "      <td>7</td>\n",
       "      <td>1.0</td>\n",
       "      <td>2.0</td>\n",
       "      <td>0.0</td>\n",
       "      <td>0</td>\n",
       "      <td>0</td>\n",
       "      <td>...</td>\n",
       "      <td>0.0</td>\n",
       "      <td>0.0</td>\n",
       "      <td>1.0</td>\n",
       "      <td>0.0</td>\n",
       "      <td>0.0</td>\n",
       "      <td>0.0</td>\n",
       "      <td>0.0</td>\n",
       "      <td>0.0</td>\n",
       "      <td>0.0</td>\n",
       "      <td>1.0</td>\n",
       "    </tr>\n",
       "    <tr>\n",
       "      <th>Ajure</th>\n",
       "      <td>1.48</td>\n",
       "      <td>0.476190</td>\n",
       "      <td>3</td>\n",
       "      <td>2</td>\n",
       "      <td>5</td>\n",
       "      <td>2.0</td>\n",
       "      <td>2.0</td>\n",
       "      <td>0.0</td>\n",
       "      <td>1</td>\n",
       "      <td>3</td>\n",
       "      <td>...</td>\n",
       "      <td>0.0</td>\n",
       "      <td>0.0</td>\n",
       "      <td>1.0</td>\n",
       "      <td>0.0</td>\n",
       "      <td>1.0</td>\n",
       "      <td>0.0</td>\n",
       "      <td>0.0</td>\n",
       "      <td>0.0</td>\n",
       "      <td>0.0</td>\n",
       "      <td>0.0</td>\n",
       "    </tr>\n",
       "  </tbody>\n",
       "</table>\n",
       "<p>5 rows × 31 columns</p>\n",
       "</div>"
      ],
      "text/plain": [
       "        pdias  longindex  durflow  height  begflow  mycor  vegaer  vegsout  \\\n",
       "Aceca   96.84   0.000000        2       7        5    2.0     0.0      0.0   \n",
       "Aceps  110.72   0.000000        3       8        4    2.0     0.0      0.0   \n",
       "Agrca    0.06   0.666667        3       2        6    2.0     0.0      1.0   \n",
       "Agrst    0.08   0.488889        2       2        7    1.0     2.0      0.0   \n",
       "Ajure    1.48   0.476190        3       2        5    2.0     2.0      0.0   \n",
       "\n",
       "       autopoll  insects  ...  seashiv  seasver  everalw  everparti  elaio  \\\n",
       "Aceca         0        4  ...      0.0      0.0      0.0        0.0    0.0   \n",
       "Aceps         0        4  ...      0.0      0.0      0.0        0.0    0.0   \n",
       "Agrca         0        0  ...      0.0      0.0      1.0        0.0    0.0   \n",
       "Agrst         0        0  ...      0.0      0.0      1.0        0.0    0.0   \n",
       "Ajure         1        3  ...      0.0      0.0      1.0        0.0    1.0   \n",
       "\n",
       "       endozoo  epizoo  aquat  windgl  unsp  \n",
       "Aceca      0.0     0.0    0.0     1.0   0.0  \n",
       "Aceps      0.0     0.0    0.0     1.0   0.0  \n",
       "Agrca      0.0     0.0    0.0     0.0   1.0  \n",
       "Agrst      0.0     0.0    0.0     0.0   1.0  \n",
       "Ajure      0.0     0.0    0.0     0.0   0.0  \n",
       "\n",
       "[5 rows x 31 columns]"
      ]
     },
     "execution_count": 3,
     "metadata": {},
     "output_type": "execute_result"
    }
   ],
   "source": [
    "plantas = data(\"plantTraits\")\n",
    "plantas.head()"
   ]
  },
  {
   "cell_type": "code",
   "execution_count": 5,
   "metadata": {},
   "outputs": [
    {
     "name": "stdout",
     "output_type": "stream",
     "text": [
      "TIPOS DE DADOS: <class 'pandas.core.frame.DataFrame'>\n"
     ]
    }
   ],
   "source": [
    "print('TIPOS DE DADOS:', type(plantas))                                        ### mostra os tipos de dados "
   ]
  },
  {
   "cell_type": "code",
   "execution_count": 6,
   "metadata": {},
   "outputs": [
    {
     "name": "stdout",
     "output_type": "stream",
     "text": [
      "NÚMERO DE LINHAS: 136\n",
      "NÚMERO DE COLUNAS: 31\n"
     ]
    }
   ],
   "source": [
    "print('NÚMERO DE LINHAS:', plantas.shape[0])                                  ### .shape mostra o numero de linhas [0] e colunas[1]\n",
    "print('NÚMERO DE COLUNAS:', plantas.shape[1])"
   ]
  },
  {
   "cell_type": "code",
   "execution_count": 7,
   "metadata": {},
   "outputs": [
    {
     "name": "stdout",
     "output_type": "stream",
     "text": [
      "NÚMERO DE LINHAS: 1316\n",
      "NÚMERO DE COLUNAS: 4\n"
     ]
    }
   ],
   "source": [
    "def LinhasColunas(dataframe):                                                 ### função para retornar o numero de linhas e colunas \n",
    "  return dataframe.shape                                                      ### de um dataframe trazido pelo codigo\n",
    "\n",
    "dataframe = data('titanic')\n",
    "print('NÚMERO DE LINHAS:' ,LinhasColunas(dataframe)[0])\n",
    "print('NÚMERO DE COLUNAS:', LinhasColunas(dataframe)[1])"
   ]
  }
 ],
 "metadata": {
  "kernelspec": {
   "display_name": "Python 3",
   "language": "python",
   "name": "python3"
  },
  "language_info": {
   "codemirror_mode": {
    "name": "ipython",
    "version": 3
   },
   "file_extension": ".py",
   "mimetype": "text/x-python",
   "name": "python",
   "nbconvert_exporter": "python",
   "pygments_lexer": "ipython3",
   "version": "3.11.4"
  },
  "orig_nbformat": 4
 },
 "nbformat": 4,
 "nbformat_minor": 2
}
